{
 "cells": [
  {
   "cell_type": "code",
   "execution_count": 1,
   "metadata": {},
   "outputs": [],
   "source": [
    "# Import Dependencies\n",
    "import matplotlib.pyplot as plt\n",
    "import pandas as pd"
   ]
  },
  {
   "cell_type": "code",
   "execution_count": 2,
   "metadata": {},
   "outputs": [
    {
     "data": {
      "text/html": [
       "<div>\n",
       "<style scoped>\n",
       "    .dataframe tbody tr th:only-of-type {\n",
       "        vertical-align: middle;\n",
       "    }\n",
       "\n",
       "    .dataframe tbody tr th {\n",
       "        vertical-align: top;\n",
       "    }\n",
       "\n",
       "    .dataframe thead th {\n",
       "        text-align: right;\n",
       "    }\n",
       "</style>\n",
       "<table border=\"1\" class=\"dataframe\">\n",
       "  <thead>\n",
       "    <tr style=\"text-align: right;\">\n",
       "      <th></th>\n",
       "      <th>maker</th>\n",
       "      <th>model</th>\n",
       "      <th>mileage</th>\n",
       "      <th>manufacture_year</th>\n",
       "      <th>engine_displacement</th>\n",
       "      <th>engine_power</th>\n",
       "      <th>stk_year</th>\n",
       "      <th>transmission</th>\n",
       "      <th>door_count</th>\n",
       "      <th>seat_count</th>\n",
       "      <th>fuel_type</th>\n",
       "      <th>date_created</th>\n",
       "      <th>date_last_seen</th>\n",
       "      <th>price_eur</th>\n",
       "    </tr>\n",
       "  </thead>\n",
       "  <tbody>\n",
       "    <tr>\n",
       "      <th>0</th>\n",
       "      <td>mercedes-benz</td>\n",
       "      <td>124</td>\n",
       "      <td>236842</td>\n",
       "      <td>1994</td>\n",
       "      <td>2000</td>\n",
       "      <td>81</td>\n",
       "      <td>None</td>\n",
       "      <td>man</td>\n",
       "      <td>None</td>\n",
       "      <td>None</td>\n",
       "      <td>gasoline</td>\n",
       "      <td>2015-12-13 13:59:29.155164+00</td>\n",
       "      <td>2015-12-28 03:51:00.703842+00</td>\n",
       "      <td>3200.37</td>\n",
       "    </tr>\n",
       "    <tr>\n",
       "      <th>1</th>\n",
       "      <td>bmw</td>\n",
       "      <td>m3</td>\n",
       "      <td>199000</td>\n",
       "      <td>1993</td>\n",
       "      <td>1995</td>\n",
       "      <td>85</td>\n",
       "      <td>None</td>\n",
       "      <td>man</td>\n",
       "      <td>None</td>\n",
       "      <td>None</td>\n",
       "      <td>gasoline</td>\n",
       "      <td>2015-12-13 13:59:29.184036+00</td>\n",
       "      <td>2016-02-11 03:22:38.221928+00</td>\n",
       "      <td>1300.15</td>\n",
       "    </tr>\n",
       "    <tr>\n",
       "      <th>2</th>\n",
       "      <td>skoda</td>\n",
       "      <td>fabia</td>\n",
       "      <td>0</td>\n",
       "      <td>2004</td>\n",
       "      <td>1197</td>\n",
       "      <td>66</td>\n",
       "      <td>None</td>\n",
       "      <td>man</td>\n",
       "      <td>4</td>\n",
       "      <td>5</td>\n",
       "      <td>gasoline</td>\n",
       "      <td>2015-12-13 13:59:29.213434+00</td>\n",
       "      <td>2016-02-11 14:41:20.698835+00</td>\n",
       "      <td>14991.67</td>\n",
       "    </tr>\n",
       "    <tr>\n",
       "      <th>3</th>\n",
       "      <td>audi</td>\n",
       "      <td>a8</td>\n",
       "      <td>201000</td>\n",
       "      <td>2008</td>\n",
       "      <td>1200</td>\n",
       "      <td>47</td>\n",
       "      <td>None</td>\n",
       "      <td>man</td>\n",
       "      <td>None</td>\n",
       "      <td>None</td>\n",
       "      <td>gasoline</td>\n",
       "      <td>2015-12-13 13:59:29.237329+00</td>\n",
       "      <td>2016-02-11 03:22:39.656896+00</td>\n",
       "      <td>15501.74</td>\n",
       "    </tr>\n",
       "    <tr>\n",
       "      <th>4</th>\n",
       "      <td>opel</td>\n",
       "      <td>zafira</td>\n",
       "      <td>230000</td>\n",
       "      <td>2003</td>\n",
       "      <td>2172</td>\n",
       "      <td>92</td>\n",
       "      <td>None</td>\n",
       "      <td>man</td>\n",
       "      <td>4</td>\n",
       "      <td>7</td>\n",
       "      <td>diesel</td>\n",
       "      <td>2015-12-13 13:59:29.263377+00</td>\n",
       "      <td>2015-12-16 03:19:12.161469+00</td>\n",
       "      <td>1500.19</td>\n",
       "    </tr>\n",
       "  </tbody>\n",
       "</table>\n",
       "</div>"
      ],
      "text/plain": [
       "           maker   model  mileage  manufacture_year  engine_displacement  \\\n",
       "0  mercedes-benz     124   236842              1994                 2000   \n",
       "1            bmw      m3   199000              1993                 1995   \n",
       "2          skoda   fabia        0              2004                 1197   \n",
       "3           audi      a8   201000              2008                 1200   \n",
       "4           opel  zafira   230000              2003                 2172   \n",
       "\n",
       "   engine_power stk_year transmission door_count seat_count fuel_type  \\\n",
       "0            81     None          man       None       None  gasoline   \n",
       "1            85     None          man       None       None  gasoline   \n",
       "2            66     None          man          4          5  gasoline   \n",
       "3            47     None          man       None       None  gasoline   \n",
       "4            92     None          man          4          7    diesel   \n",
       "\n",
       "                    date_created                 date_last_seen  price_eur  \n",
       "0  2015-12-13 13:59:29.155164+00  2015-12-28 03:51:00.703842+00    3200.37  \n",
       "1  2015-12-13 13:59:29.184036+00  2016-02-11 03:22:38.221928+00    1300.15  \n",
       "2  2015-12-13 13:59:29.213434+00  2016-02-11 14:41:20.698835+00   14991.67  \n",
       "3  2015-12-13 13:59:29.237329+00  2016-02-11 03:22:39.656896+00   15501.74  \n",
       "4  2015-12-13 13:59:29.263377+00  2015-12-16 03:19:12.161469+00    1500.19  "
      ]
     },
     "execution_count": 2,
     "metadata": {},
     "output_type": "execute_result"
    }
   ],
   "source": [
    "# Import our data into pandas from CSV\n",
    "file_path = '../Resources/used_cars.csv'\n",
    "used_car_df = pd.read_csv(file_path)\n",
    "used_car_df.head()"
   ]
  },
  {
   "cell_type": "code",
   "execution_count": 3,
   "metadata": {},
   "outputs": [
    {
     "data": {
      "text/plain": [
       "maker\n",
       "audi              6\n",
       "bmw              11\n",
       "chevrolet         1\n",
       "citroen           1\n",
       "fiat              2\n",
       "ford              4\n",
       "honda             1\n",
       "hyundai           1\n",
       "kia               3\n",
       "mazda             1\n",
       "mercedes-benz     5\n",
       "mitsubishi        1\n",
       "nissan            2\n",
       "opel              2\n",
       "seat              1\n",
       "skoda             5\n",
       "suzuki            1\n",
       "toyota            1\n",
       "volvo             1\n",
       "Name: maker, dtype: int64"
      ]
     },
     "execution_count": 3,
     "metadata": {},
     "output_type": "execute_result"
    }
   ],
   "source": [
    "# Create a group based on the values in the 'maker' column\n",
    "maker_group = used_car_df.groupby('maker')\n",
    "\n",
    "# Count how many times each maker appears in our group\n",
    "maker_count = maker_group['maker'].count()\n",
    "\n",
    "maker_count"
   ]
  },
  {
   "cell_type": "code",
   "execution_count": 5,
   "metadata": {},
   "outputs": [
    {
     "data": {
      "image/png": "[encoded data removed]",
      "text/plain": [
       "<Figure size 432x288 with 1 Axes>"
      ]
     },
     "metadata": {
      "needs_background": "light"
     },
     "output_type": "display_data"
    }
   ],
   "source": [
    "# Create a bar chart based off of the group series from before\n",
    "maker_chart = maker_count.plot.barh()\n",
    "#maker_chart = maker_count.plot(kind='barh')\n",
    "\n",
    "# Set the xlabel and ylabel using class methods\n",
    "maker_chart.set_xlabel(\"Car Manufacturer\")\n",
    "maker_chart.set_ylabel(\"Number of Cars\")\n",
    "\n",
    "plt.tight_layout()\n",
    "plt.show()"
   ]
  },
  {
   "cell_type": "markdown",
   "metadata": {},
   "source": [
    "**(BONUS)**"
   ]
  },
  {
   "cell_type": "code",
   "execution_count": 6,
   "metadata": {},
   "outputs": [
    {
     "data": {
      "text/plain": [
       "maker\n",
       "mazda             1\n",
       "suzuki            1\n",
       "seat              1\n",
       "mitsubishi        1\n",
       "toyota            1\n",
       "hyundai           1\n",
       "volvo             1\n",
       "citroen           1\n",
       "chevrolet         1\n",
       "honda             1\n",
       "fiat              2\n",
       "nissan            2\n",
       "opel              2\n",
       "kia               3\n",
       "ford              4\n",
       "mercedes-benz     5\n",
       "skoda             5\n",
       "audi              6\n",
       "bmw              11\n",
       "Name: maker, dtype: int64"
      ]
     },
     "execution_count": 6,
     "metadata": {},
     "output_type": "execute_result"
    }
   ],
   "source": [
    "maker_count_sorted = used_car_df.groupby('maker')['maker'].count().sort_values()\n",
    "maker_count_sorted"
   ]
  },
  {
   "cell_type": "code",
   "execution_count": 8,
   "metadata": {},
   "outputs": [
    {
     "data": {
      "image/png": "[encoded data removed]",
      "text/plain": [
       "<Figure size 432x288 with 1 Axes>"
      ]
     },
     "metadata": {
      "needs_background": "light"
     },
     "output_type": "display_data"
    }
   ],
   "source": [
    "maker_count_sorted.plot.barh()\n",
    "#used_car_df.groupby('maker')['maker'].count().sort_values().plot.barh()\n",
    "\n",
    "plt.title(\"Car count by Manufacturer\")\n",
    "plt.xlabel(\"Number of Cars\")\n",
    "plt.ylabel(\"Car Manufacturer\")\n",
    "plt.tight_layout()\n",
    "plt.show()"
   ]
  },
  {
   "cell_type": "code",
   "execution_count": null,
   "metadata": {},
   "outputs": [],
   "source": []
  }
 ],
 "metadata": {
  "kernelspec": {
   "display_name": "Python 3",
   "language": "python",
   "name": "python3"
  },
  "language_info": {
   "codemirror_mode": {
    "name": "ipython",
    "version": 3
   },
   "file_extension": ".py",
   "mimetype": "text/x-python",
   "name": "python",
   "nbconvert_exporter": "python",
   "pygments_lexer": "ipython3",
   "version": "3.7.9"
  },
  "nteract": {
   "version": "0.8.4"
  }
 },
 "nbformat": 4,
 "nbformat_minor": 2
}
